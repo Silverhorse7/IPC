{
 "cells": [
  {
   "cell_type": "markdown",
   "metadata": {},
   "source": [
    "# Combining Datasets"
   ]
  },
  {
   "cell_type": "code",
   "execution_count": 2,
   "metadata": {},
   "outputs": [],
   "source": [
    "import pandas as pd"
   ]
  },
  {
   "cell_type": "markdown",
   "metadata": {},
   "source": [
    "### Load datasets"
   ]
  },
  {
   "cell_type": "code",
   "execution_count": 5,
   "metadata": {},
   "outputs": [],
   "source": [
    "# Define the maximum number of rows to load\n",
    "max_rows = 7000"
   ]
  },
  {
   "cell_type": "code",
   "execution_count": 25,
   "metadata": {},
   "outputs": [],
   "source": [
    "# Load datasets from different sources, and rename the column names to be consistent\n",
    "atcoder_data = pd.read_csv('IPC_Datasets/atcoder_solutions.csv', nrows=max_rows).rename(columns={'source_code': 'solution'})\n",
    "codechef_data = pd.read_csv('IPC_Datasets/codechef_solutions.csv', nrows=max_rows)\n",
    "codeforces_data = pd.read_csv('IPC_Datasets/codeforces_submissions.csv', nrows=max_rows).rename(columns={'source_code': 'solution'})\n",
    "cses_data = pd.read_csv('IPC_Datasets/cses_solutions.csv', nrows=max_rows)\n",
    "hackerearth_data = pd.read_csv('IPC_Datasets/hackerearth_solutions.csv', nrows=max_rows)\n",
    "leetcode_data = pd.read_csv('IPC_Datasets/leetcode_solutions.csv', nrows=max_rows)\n",
    "uva_data = pd.read_csv('IPC_Datasets/uva_solutions.csv', nrows=max_rows).rename(columns={'Solution': 'solution', 'Problem Link': 'problem_link', 'Repository': 'source'})\n",
    "yosupo_data = pd.read_csv('IPC_Datasets/yosupo_solutions.csv', nrows=max_rows)"
   ]
  },
  {
   "cell_type": "code",
   "execution_count": 26,
   "metadata": {},
   "outputs": [
    {
     "name": "stdout",
     "output_type": "stream",
     "text": [
      "AtCoder: 7000\n",
      "CodeChef: 7000\n",
      "Codeforces: 229\n",
      "CSES: 1175\n",
      "HackerEarth: 7000\n",
      "LeetCode: 3570\n",
      "UVa: 1347\n",
      "Yosupo: 195\n",
      "Total: 27516\n"
     ]
    }
   ],
   "source": [
    "# Print the number of rows in each dataset\n",
    "print('AtCoder:', atcoder_data.shape[0])\n",
    "print('CodeChef:', codechef_data.shape[0])\n",
    "print('Codeforces:', codeforces_data.shape[0])\n",
    "print('CSES:', cses_data.shape[0])\n",
    "print('HackerEarth:', hackerearth_data.shape[0])\n",
    "print('LeetCode:', leetcode_data.shape[0])\n",
    "print('UVa:', uva_data.shape[0])\n",
    "print('Yosupo:', yosupo_data.shape[0])\n",
    "print('Total:', atcoder_data.shape[0] + codechef_data.shape[0] + codeforces_data.shape[0] + cses_data.shape[0] + hackerearth_data.shape[0] + leetcode_data.shape[0] + uva_data.shape[0] + yosupo_data.shape[0])"
   ]
  },
  {
   "cell_type": "markdown",
   "metadata": {},
   "source": [
    "### Add Online Judge column to the datasets"
   ]
  },
  {
   "cell_type": "code",
   "execution_count": 27,
   "metadata": {},
   "outputs": [],
   "source": [
    "# Add 'online_judge' column to each dataset to identify the source\n",
    "atcoder_data['online_judge'] = 'AtCoder'\n",
    "codechef_data['online_judge'] = 'CodeChef'\n",
    "codeforces_data['online_judge'] = 'Codeforces'\n",
    "cses_data['online_judge'] = 'CSES'\n",
    "hackerearth_data['online_judge'] = 'HackerEarth'\n",
    "leetcode_data['online_judge'] = 'LeetCode'\n",
    "uva_data['online_judge'] = 'UVa'\n",
    "yosupo_data['online_judge'] = 'yosupo'"
   ]
  },
  {
   "cell_type": "code",
   "execution_count": 29,
   "metadata": {},
   "outputs": [
    {
     "name": "stdout",
     "output_type": "stream",
     "text": [
      "AtCoder: ['id', 'online_judge', 'problem_link', 'solution', 'submission_link']\n",
      "CodeChef: ['id', 'online_judge', 'problem_link', 'solution']\n",
      "Codeforces: ['id', 'language', 'memory', 'online_judge', 'solution', 'submission_link', 'time']\n",
      "CSES: ['id', 'online_judge', 'problem_link', 'solution', 'source']\n",
      "HackerEarth: ['id', 'online_judge', 'problem_name', 'solution']\n",
      "LeetCode: ['id', 'online_judge', 'problem_link', 'solution', 'source']\n",
      "UVa: ['id', 'online_judge', 'problem_link', 'solution', 'source']\n",
      "Yosupo: ['id', 'online_judge', 'problem_link', 'solution', 'source']\n"
     ]
    }
   ],
   "source": [
    "# Print the column names in alphabetical order for each dataset\n",
    "print('AtCoder:', sorted(atcoder_data.columns))\n",
    "print('CodeChef:', sorted(codechef_data.columns))\n",
    "print('Codeforces:', sorted(codeforces_data.columns))\n",
    "print('CSES:', sorted(cses_data.columns))\n",
    "print('HackerEarth:', sorted(hackerearth_data.columns))\n",
    "print('LeetCode:', sorted(leetcode_data.columns))\n",
    "print('UVa:', sorted(uva_data.columns))\n",
    "print('Yosupo:', sorted(yosupo_data.columns))"
   ]
  },
  {
   "cell_type": "markdown",
   "metadata": {},
   "source": [
    "### Combine the datasets"
   ]
  },
  {
   "cell_type": "code",
   "execution_count": 32,
   "metadata": {},
   "outputs": [],
   "source": [
    "combined_data = pd.concat([atcoder_data, codechef_data, codeforces_data, cses_data, hackerearth_data, leetcode_data, uva_data, yosupo_data], axis=0)"
   ]
  },
  {
   "cell_type": "code",
   "execution_count": 34,
   "metadata": {},
   "outputs": [
    {
     "name": "stdout",
     "output_type": "stream",
     "text": [
      "<class 'pandas.core.frame.DataFrame'>\n",
      "Index: 27516 entries, 0 to 194\n",
      "Data columns (total 9 columns):\n",
      " #   Column           Non-Null Count  Dtype \n",
      "---  ------           --------------  ----- \n",
      " 0   problem_link     20287 non-null  object\n",
      " 1   submission_link  7229 non-null   object\n",
      " 2   solution         27516 non-null  object\n",
      " 3   online_judge     27516 non-null  object\n",
      " 4   language         229 non-null    object\n",
      " 5   time             229 non-null    object\n",
      " 6   memory           229 non-null    object\n",
      " 7   source           6287 non-null   object\n",
      " 8   problem_name     7000 non-null   object\n",
      "dtypes: object(9)\n",
      "memory usage: 2.1+ MB\n"
     ]
    }
   ],
   "source": [
    "# Drop id column\n",
    "combined_data.drop('id', axis=1, inplace=True)\n",
    "\n",
    "combined_data.info()"
   ]
  },
  {
   "cell_type": "markdown",
   "metadata": {},
   "source": [
    "### Reorder the columns"
   ]
  },
  {
   "cell_type": "code",
   "execution_count": 35,
   "metadata": {},
   "outputs": [],
   "source": [
    "combined_data = combined_data[['online_judge', 'problem_link', 'submission_link', 'problem_name', 'source', 'language', 'time', 'memory', 'solution']]"
   ]
  },
  {
   "cell_type": "code",
   "execution_count": 36,
   "metadata": {},
   "outputs": [
    {
     "data": {
      "text/html": [
       "<div>\n",
       "<style scoped>\n",
       "    .dataframe tbody tr th:only-of-type {\n",
       "        vertical-align: middle;\n",
       "    }\n",
       "\n",
       "    .dataframe tbody tr th {\n",
       "        vertical-align: top;\n",
       "    }\n",
       "\n",
       "    .dataframe thead th {\n",
       "        text-align: right;\n",
       "    }\n",
       "</style>\n",
       "<table border=\"1\" class=\"dataframe\">\n",
       "  <thead>\n",
       "    <tr style=\"text-align: right;\">\n",
       "      <th></th>\n",
       "      <th>online_judge</th>\n",
       "      <th>problem_link</th>\n",
       "      <th>submission_link</th>\n",
       "      <th>problem_name</th>\n",
       "      <th>source</th>\n",
       "      <th>language</th>\n",
       "      <th>time</th>\n",
       "      <th>memory</th>\n",
       "      <th>solution</th>\n",
       "    </tr>\n",
       "  </thead>\n",
       "  <tbody>\n",
       "    <tr>\n",
       "      <th>0</th>\n",
       "      <td>AtCoder</td>\n",
       "      <td>https://atcoder.jp/contests/agc001/tasks/agc00...</td>\n",
       "      <td>https://atcoder.jp/contests/agc001/submissions...</td>\n",
       "      <td>NaN</td>\n",
       "      <td>NaN</td>\n",
       "      <td>NaN</td>\n",
       "      <td>NaN</td>\n",
       "      <td>NaN</td>\n",
       "      <td>#include &lt;bits/stdc++.h&gt;\\r\\nusing namespace st...</td>\n",
       "    </tr>\n",
       "    <tr>\n",
       "      <th>1</th>\n",
       "      <td>AtCoder</td>\n",
       "      <td>https://atcoder.jp/contests/agc001/tasks/agc00...</td>\n",
       "      <td>https://atcoder.jp/contests/agc001/submissions...</td>\n",
       "      <td>NaN</td>\n",
       "      <td>NaN</td>\n",
       "      <td>NaN</td>\n",
       "      <td>NaN</td>\n",
       "      <td>NaN</td>\n",
       "      <td>// LUOGU_RID: 147675545\\n#include&lt;bits/stdc++....</td>\n",
       "    </tr>\n",
       "    <tr>\n",
       "      <th>2</th>\n",
       "      <td>AtCoder</td>\n",
       "      <td>https://atcoder.jp/contests/agc001/tasks/agc00...</td>\n",
       "      <td>https://atcoder.jp/contests/agc001/submissions...</td>\n",
       "      <td>NaN</td>\n",
       "      <td>NaN</td>\n",
       "      <td>NaN</td>\n",
       "      <td>NaN</td>\n",
       "      <td>NaN</td>\n",
       "      <td>#include &lt;bits/stdc++.h&gt;\\n\\nusing namespace st...</td>\n",
       "    </tr>\n",
       "    <tr>\n",
       "      <th>3</th>\n",
       "      <td>AtCoder</td>\n",
       "      <td>https://atcoder.jp/contests/agc001/tasks/agc00...</td>\n",
       "      <td>https://atcoder.jp/contests/agc001/submissions...</td>\n",
       "      <td>NaN</td>\n",
       "      <td>NaN</td>\n",
       "      <td>NaN</td>\n",
       "      <td>NaN</td>\n",
       "      <td>NaN</td>\n",
       "      <td>// LUOGU_RID: 147582298\\n#include &lt;bits/stdc++...</td>\n",
       "    </tr>\n",
       "    <tr>\n",
       "      <th>4</th>\n",
       "      <td>AtCoder</td>\n",
       "      <td>https://atcoder.jp/contests/agc001/tasks/agc00...</td>\n",
       "      <td>https://atcoder.jp/contests/agc001/submissions...</td>\n",
       "      <td>NaN</td>\n",
       "      <td>NaN</td>\n",
       "      <td>NaN</td>\n",
       "      <td>NaN</td>\n",
       "      <td>NaN</td>\n",
       "      <td>// LUOGU_RID: 147550123\\n#include&lt;bits/stdc++....</td>\n",
       "    </tr>\n",
       "  </tbody>\n",
       "</table>\n",
       "</div>"
      ],
      "text/plain": [
       "  online_judge                                       problem_link  \\\n",
       "0      AtCoder  https://atcoder.jp/contests/agc001/tasks/agc00...   \n",
       "1      AtCoder  https://atcoder.jp/contests/agc001/tasks/agc00...   \n",
       "2      AtCoder  https://atcoder.jp/contests/agc001/tasks/agc00...   \n",
       "3      AtCoder  https://atcoder.jp/contests/agc001/tasks/agc00...   \n",
       "4      AtCoder  https://atcoder.jp/contests/agc001/tasks/agc00...   \n",
       "\n",
       "                                     submission_link problem_name source  \\\n",
       "0  https://atcoder.jp/contests/agc001/submissions...          NaN    NaN   \n",
       "1  https://atcoder.jp/contests/agc001/submissions...          NaN    NaN   \n",
       "2  https://atcoder.jp/contests/agc001/submissions...          NaN    NaN   \n",
       "3  https://atcoder.jp/contests/agc001/submissions...          NaN    NaN   \n",
       "4  https://atcoder.jp/contests/agc001/submissions...          NaN    NaN   \n",
       "\n",
       "  language time memory                                           solution  \n",
       "0      NaN  NaN    NaN  #include <bits/stdc++.h>\\r\\nusing namespace st...  \n",
       "1      NaN  NaN    NaN  // LUOGU_RID: 147675545\\n#include<bits/stdc++....  \n",
       "2      NaN  NaN    NaN  #include <bits/stdc++.h>\\n\\nusing namespace st...  \n",
       "3      NaN  NaN    NaN  // LUOGU_RID: 147582298\\n#include <bits/stdc++...  \n",
       "4      NaN  NaN    NaN  // LUOGU_RID: 147550123\\n#include<bits/stdc++....  "
      ]
     },
     "execution_count": 36,
     "metadata": {},
     "output_type": "execute_result"
    }
   ],
   "source": [
    "combined_data.head()"
   ]
  },
  {
   "cell_type": "markdown",
   "metadata": {},
   "source": [
    "### Save the combined dataset"
   ]
  },
  {
   "cell_type": "code",
   "execution_count": 37,
   "metadata": {},
   "outputs": [],
   "source": [
    "combined_data.to_csv('IPC_Datasets/combined_solutions_v1.csv', index=True, index_label='index')"
   ]
  }
 ],
 "metadata": {
  "kernelspec": {
   "display_name": "Python 3",
   "language": "python",
   "name": "python3"
  },
  "language_info": {
   "codemirror_mode": {
    "name": "ipython",
    "version": 3
   },
   "file_extension": ".py",
   "mimetype": "text/x-python",
   "name": "python",
   "nbconvert_exporter": "python",
   "pygments_lexer": "ipython3",
   "version": "3.11.8"
  }
 },
 "nbformat": 4,
 "nbformat_minor": 2
}
