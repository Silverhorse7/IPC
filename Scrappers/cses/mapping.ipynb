{
 "cells": [
  {
   "cell_type": "code",
   "execution_count": 2,
   "metadata": {},
   "outputs": [],
   "source": [
    "import requests\n",
    "import csv"
   ]
  },
  {
   "cell_type": "code",
   "execution_count": 3,
   "metadata": {},
   "outputs": [],
   "source": [
    "src = requests.get('https://cses.fi/problemset/list/').text\n",
    "ind = 0\n",
    "data = []\n",
    "while True:\n",
    "    start = src.find('<a href=\"/problemset/task/', ind)\n",
    "    if start == -1:\n",
    "        break\n",
    "    end = src.find('</a>', start)\n",
    "\n",
    "    pid = src[start + len('<a href=\"/problemset/task/'):start + len('<a href=\"/problemset/task/') + 4]\n",
    "    name = src[start + len('<a href=\"/problemset/task/') + 6: end]\n",
    "    data.append((name, pid))\n",
    "    ind = end"
   ]
  },
  {
   "cell_type": "code",
   "execution_count": null,
   "metadata": {},
   "outputs": [],
   "source": [
    "with open('name_id_mapping.csv', 'w', newline='', encoding='utf-8') as file:\n",
    "    writer = csv.writer(file)\n",
    "    writer.writerow(['Name', 'PID']) \n",
    "    for name, pid in data:\n",
    "        writer.writerow([name, pid]) "
   ]
  }
 ],
 "metadata": {
  "kernelspec": {
   "display_name": "Python 3",
   "language": "python",
   "name": "python3"
  },
  "language_info": {
   "codemirror_mode": {
    "name": "ipython",
    "version": 3
   },
   "file_extension": ".py",
   "mimetype": "text/x-python",
   "name": "python",
   "nbconvert_exporter": "python",
   "pygments_lexer": "ipython3",
   "version": "3.11.6"
  }
 },
 "nbformat": 4,
 "nbformat_minor": 2
}
