{
 "cells": [
  {
   "cell_type": "code",
   "execution_count": 28,
   "metadata": {},
   "outputs": [],
   "source": [
    "import requests\n",
    "import pandas as pd\n",
    "from bs4 import BeautifulSoup"
   ]
  },
  {
   "cell_type": "code",
   "execution_count": 29,
   "metadata": {},
   "outputs": [],
   "source": [
    "\n",
    "def extract_problem_info(html_content):\n",
    "    \"\"\"\n",
    "    Extracts problem text, examples, and constraints from the HTML content.\n",
    "    \"\"\"\n",
    "    soup = BeautifulSoup(html_content, 'html.parser')\n",
    "\n",
    "    # Extract problem text\n",
    "    problem_text = soup.find('p').get_text()\n",
    "\n",
    "    # Extract examples\n",
    "    examples = []\n",
    "    for example_section in soup.find_all('p', class_='example'):\n",
    "        example_text = example_section.get_text()\n",
    "        examples.append(example_text)\n",
    "\n",
    "    # Extract examples from <pre> tags\n",
    "    for example_section in soup.find_all('pre'):\n",
    "        example_text = example_section.get_text()\n",
    "        examples.append(example_text)\n",
    "\n",
    "    # Extract constraints\n",
    "    constraints = []\n",
    "    constraints_section = soup.find('p', string='Constraints:')\n",
    "    if constraints_section:\n",
    "        for constraint in constraints_section.find_next_siblings('ul'):\n",
    "            constraints.extend([li.get_text(strip=True) for li in constraint.find_all('li')])\n",
    "\n",
    "    return problem_text, examples, constraints\n"
   ]
  },
  {
   "cell_type": "code",
   "execution_count": 30,
   "metadata": {},
   "outputs": [],
   "source": [
    "def get_solution_url(title_slug):\n",
    "    \"\"\"\n",
    "    Get the URL for the solution of a problem using its title slug.\n",
    "    \"\"\"\n",
    "    return f\"https://leetcode.com/problems/{title_slug}/solution/\""
   ]
  },
  {
   "cell_type": "code",
   "execution_count": 31,
   "metadata": {},
   "outputs": [],
   "source": [
    "def scrape_questions_list():\n",
    "    \"\"\"\n",
    "    Scrapes the list of questions from leetcode.com and stores them in the 'questions'\n",
    "    dataframe. The columns include the question QID, acceptance rate, difficulty,\n",
    "    title, titleSlug, topic tags, and question body. It also has a column indicating\n",
    "    whether the question is available only to Leetcode's paying customers.\n",
    "    \"\"\"\n",
    "    print(\"Scraping questions list ... \", end=\"\")\n",
    "    data = {\n",
    "        \"query\": \"\"\"query problemsetQuestionList($categorySlug: String, $limit: Int, $skip: Int, $filters: QuestionListFilterInput) {\n",
    "                problemsetQuestionList: questionList(\n",
    "                    categorySlug: $categorySlug\n",
    "                    limit: $limit\n",
    "                    skip: $skip\n",
    "                    filters: $filters\n",
    "                ) {\n",
    "                    total: totalNum\n",
    "                    questions: data {\n",
    "                        acceptanceRate: acRate\n",
    "                        difficulty\n",
    "                        QID: questionFrontendId\n",
    "                        paidOnly: isPaidOnly\n",
    "                        title\n",
    "                        titleSlug\n",
    "                        topicTags {\n",
    "                            slug\n",
    "                        }\n",
    "                        content\n",
    "                    }\n",
    "                }\n",
    "            }\n",
    "        \"\"\",\n",
    "        \"variables\": {\n",
    "            \"categorySlug\": \"\",\n",
    "            \"skip\": 0,\n",
    "            \"limit\": 10000,\n",
    "            \"filters\": {},\n",
    "        },\n",
    "    }\n",
    "\n",
    "    r = requests.post(\"https://leetcode.com/graphql\", json=data).json()\n",
    "    #print(r)\n",
    "\n",
    "    questions = pd.json_normalize(\n",
    "        r[\"data\"][\"problemsetQuestionList\"][\"questions\"]\n",
    "    )[\n",
    "        [\n",
    "            \"QID\",\n",
    "            \"title\",\n",
    "            \"titleSlug\",\n",
    "            \"difficulty\",\n",
    "            \"acceptanceRate\",\n",
    "            \"paidOnly\",\n",
    "            \"topicTags\",\n",
    "            \"content\",\n",
    "        ]\n",
    "    ]\n",
    "    questions[\"topicTags\"] = questions[\"topicTags\"].apply(\n",
    "        lambda w: [tag[\"slug\"] for tag in w]\n",
    "    )\n",
    "\n",
    "    # Create new columns for problem_text, examples, and constraints\n",
    "    questions[\"problem_text\"] = \"\"\n",
    "    questions[\"examples\"] = \"\"\n",
    "    questions[\"constraints\"] = \"\"\n",
    "\n",
    "    questions = questions.dropna()\n",
    "\n",
    "    for index, row in questions.iterrows():\n",
    "        problem_text, examples, constraints = extract_problem_info(row[\"content\"])\n",
    "        questions.at[index, \"problem_text\"] = problem_text\n",
    "        questions.at[index, \"examples\"] = examples\n",
    "        questions.at[index, \"constraints\"] = constraints\n",
    "\n",
    "    #print(\"\\n\", questions[[\"QID\", \"title\", \"problem_text\", \"examples\", \"constraints\"]])\n",
    "    print(\"Done\")\n",
    "\n",
    "    # Save to CSV\n",
    "    questions.to_csv(\"leetcode_questions.csv\", index=False)\n",
    "    print(\"Data saved to leetcode_questions.csv\")"
   ]
  },
  {
   "cell_type": "code",
   "execution_count": 32,
   "metadata": {},
   "outputs": [
    {
     "name": "stdout",
     "output_type": "stream",
     "text": [
      "Scraping questions list ... Done\n",
      "Data saved to leetcode_questions.csv\n"
     ]
    }
   ],
   "source": [
    "scrape_questions_list()"
   ]
  }
 ],
 "metadata": {
  "kernelspec": {
   "display_name": "base",
   "language": "python",
   "name": "python3"
  },
  "language_info": {
   "codemirror_mode": {
    "name": "ipython",
    "version": 3
   },
   "file_extension": ".py",
   "mimetype": "text/x-python",
   "name": "python",
   "nbconvert_exporter": "python",
   "pygments_lexer": "ipython3",
   "version": "3.11.5"
  }
 },
 "nbformat": 4,
 "nbformat_minor": 2
}
