{
 "cells": [
  {
   "cell_type": "code",
   "execution_count": null,
   "metadata": {},
   "outputs": [],
   "source": [
    "import os \n",
    "import pandas as pd "
   ]
  },
  {
   "cell_type": "code",
   "execution_count": null,
   "metadata": {},
   "outputs": [],
   "source": [
    "df = pd.DataFrame(columns=['source', 'problem_link', 'solution'])"
   ]
  },
  {
   "cell_type": "code",
   "execution_count": null,
   "metadata": {},
   "outputs": [],
   "source": [
    "source = \"https://github.com/kamyu104/LeetCode-Solutions\"\n",
    "repo_path = 'repos/kamyu104/C++'\n",
    "root = \"https://leetcode.com/problems/\"\n",
    "\n",
    "for file_name in os.listdir(repo_path):\n",
    "    solution = open(os.path.join(repo_path, file_name)).read()\n",
    "    problem_link = root + file_name[:-4]\n",
    "\n",
    "    new_row = {\n",
    "        'source': source,\n",
    "        'problem_link': problem_link,\n",
    "        'solution': solution\n",
    "    }\n",
    "\n",
    "    df.loc[len(df)] = new_row"
   ]
  },
  {
   "cell_type": "code",
   "execution_count": null,
   "metadata": {},
   "outputs": [],
   "source": [
    "source = \"https://github.com/haoel/leetcode\"\n",
    "repo_path = 'repos/haoel/algorithms/cpp'\n",
    "\n",
    "for root_dir, dir_name, files in os.walk(repo_path):\n",
    "    for file in files:\n",
    "        file_path = os.path.join(root_dir, file)\n",
    "        solution = open(file_path).read()\n",
    "        problem_link = open(file_path).readline()\n",
    "\n",
    "        new_row = {\n",
    "            'source': source,\n",
    "            'problem_link': problem_link,\n",
    "            'solution': solution\n",
    "        }\n",
    "\n",
    "        df.loc[len(df)] = new_row"
   ]
  },
  {
   "cell_type": "code",
   "execution_count": null,
   "metadata": {},
   "outputs": [],
   "source": [
    "source = \"https://github.com/neetcode-gh/leetcode\"\n",
    "repo_path = \"repos/neetcode/cpp/\"\n",
    "\n",
    "for file_name in os.listdir(repo_path):\n",
    "    solution = open(os.path.join(repo_path, file_name)).read()\n",
    "    problem_link = root + file_name[5:-4]\n",
    "\n",
    "    new_row = {\n",
    "        'source': source,\n",
    "        'problem_link': problem_link,\n",
    "        'solution': solution\n",
    "    }\n",
    "\n",
    "    df.loc[len(df)] = new_row"
   ]
  },
  {
   "cell_type": "code",
   "execution_count": null,
   "metadata": {},
   "outputs": [],
   "source": [
    "df.to_csv('../datasets/leetcode_solutions.csv')"
   ]
  }
 ],
 "metadata": {
  "kernelspec": {
   "display_name": "Python 3",
   "language": "python",
   "name": "python3"
  },
  "language_info": {
   "codemirror_mode": {
    "name": "ipython",
    "version": 3
   },
   "file_extension": ".py",
   "mimetype": "text/x-python",
   "name": "python",
   "nbconvert_exporter": "python",
   "pygments_lexer": "ipython3",
   "version": "3.11.6"
  }
 },
 "nbformat": 4,
 "nbformat_minor": 2
}
