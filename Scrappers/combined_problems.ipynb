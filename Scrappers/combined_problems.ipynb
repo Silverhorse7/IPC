{
 "cells": [
  {
   "cell_type": "code",
   "execution_count": 8,
   "metadata": {},
   "outputs": [],
   "source": [
    "import pandas as pd\n",
    "import os"
   ]
  },
  {
   "cell_type": "code",
   "execution_count": 9,
   "metadata": {},
   "outputs": [],
   "source": [
    "directory = 'datasets'\n",
    "combined_data = []"
   ]
  },
  {
   "cell_type": "code",
   "execution_count": 10,
   "metadata": {},
   "outputs": [
    {
     "name": "stdout",
     "output_type": "stream",
     "text": [
      "datasets/hackerearth_problems.csv\n"
     ]
    }
   ],
   "source": [
    "try:\n",
    "    for root, _, files in os.walk(directory):\n",
    "        for file in files:\n",
    "            if file.endswith(\"problems.csv\"):\n",
    "                file_path = os.path.join(root, file)\n",
    "                df = pd.read_csv(file_path)\n",
    "                \n",
    "                if file == 'leetcode_problems.csv':\n",
    "                    if 'title' in df.columns and 'problem_link' not in df.columns:\n",
    "                        df['problem_link'] = df['title'].apply(lambda x: 'https://leetcode.com/problems/' + x.strip().replace(' ', '-').lower())                        \n",
    "                        problem_column = 'problem_text' if 'problem_text' in df.columns else 'problem_statement'\n",
    "                        df['problem_statement'] = df[problem_column]\n",
    "                else:\n",
    "                    problem_column = 'problem_text' if 'problem_text' in df.columns else 'problem_statement'\n",
    "                    df = df[['problem_link', problem_column]].rename(columns={problem_column: 'problem_statement'})\n",
    "                \n",
    "                online_judge = file.split('_')[0]\n",
    "                df['online_judge'] = online_judge\n",
    "                \n",
    "                combined_data.append(df[['problem_link', 'problem_statement', 'online_judge']])\n",
    "except Exception as e:\n",
    "    print(file_path)"
   ]
  },
  {
   "cell_type": "code",
   "execution_count": 11,
   "metadata": {},
   "outputs": [],
   "source": [
    "final_df = pd.concat(combined_data, ignore_index=True)"
   ]
  },
  {
   "cell_type": "code",
   "execution_count": 12,
   "metadata": {},
   "outputs": [],
   "source": [
    "output_path = 'datasets/combined_problems.csv'\n",
    "final_df.to_csv(output_path, index=True)"
   ]
  },
  {
   "cell_type": "code",
   "execution_count": 13,
   "metadata": {},
   "outputs": [
    {
     "name": "stdout",
     "output_type": "stream",
     "text": [
      "Combined CSV file has been saved to datasets/combined_problems.csv.\n"
     ]
    }
   ],
   "source": [
    "print(f'Combined CSV file has been saved to {output_path}.')"
   ]
  }
 ],
 "metadata": {
  "kernelspec": {
   "display_name": "Python 3",
   "language": "python",
   "name": "python3"
  },
  "language_info": {
   "codemirror_mode": {
    "name": "ipython",
    "version": 3
   },
   "file_extension": ".py",
   "mimetype": "text/x-python",
   "name": "python",
   "nbconvert_exporter": "python",
   "pygments_lexer": "ipython3",
   "version": "3.11.8"
  }
 },
 "nbformat": 4,
 "nbformat_minor": 2
}
