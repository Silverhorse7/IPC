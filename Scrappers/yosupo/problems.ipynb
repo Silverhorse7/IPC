{
 "cells": [
  {
   "cell_type": "code",
   "execution_count": null,
   "metadata": {},
   "outputs": [],
   "source": [
    "import os \n",
    "import re\n",
    "import pandas as pd "
   ]
  },
  {
   "cell_type": "code",
   "execution_count": null,
   "metadata": {},
   "outputs": [],
   "source": [
    "df = pd.DataFrame(columns=['problem_link', 'problem_statement'])"
   ]
  },
  {
   "cell_type": "code",
   "execution_count": null,
   "metadata": {},
   "outputs": [],
   "source": [
    "# Dictionary for LaTeX to text replacements\n",
    "latex_replacements = {\n",
    "    # Basic replacements\n",
    "    r'\\$': '',\n",
    "    r'\\\\lambda': 'λ',\n",
    "    r'\\\\mod': 'mod',\n",
    "    r'\\\\textrm': '',\n",
    "    r'\\\\text': '',\n",
    "    r'_': '',\n",
    "    r'\\\\': '',\n",
    "    r'\\{': '',\n",
    "    r'\\}': '',\n",
    "    r'\\^': '^',\n",
    "    # Operators\n",
    "    r'\\\\times': '×',\n",
    "    r'\\\\otimes': '⊗',\n",
    "    r'\\\\oplus': '⊕',\n",
    "    r'\\\\cdot': '·',\n",
    "    r'\\\\circ': '°',\n",
    "    # Relations\n",
    "    r'\\\\leq': '≤',\n",
    "    r'\\\\geq': '≥',\n",
    "    r'\\\\neq': '≠',\n",
    "    r'\\\\approx': '≈',\n",
    "    r'\\\\equiv': '≡',\n",
    "    # Greek letters\n",
    "    r'\\\\alpha': 'α',\n",
    "    r'\\\\beta': 'β',\n",
    "    # Add more Greek letters as needed\n",
    "    # Set symbols\n",
    "    r'\\\\emptyset': '∅',\n",
    "    r'\\\\in': '∈',\n",
    "    r'\\\\notin': '∉',\n",
    "    r'\\\\subset': '⊂',\n",
    "    r'\\\\supset': '⊃',\n",
    "    r'\\\\subseteq': '⊆',\n",
    "    r'\\\\supseteq': '⊇',\n",
    "    # Add more set symbols as needed\n",
    "    # Logic\n",
    "    r'\\\\land': '∧',\n",
    "    r'\\\\lor': '∨',\n",
    "    r'\\\\lnot': '¬',\n",
    "    r'\\\\forall': '∀',\n",
    "    r'\\\\exists': '∃',\n",
    "    # Add more logic symbols as needed\n",
    "    # Miscellaneous\n",
    "    r'\\\\infty': '∞',\n",
    "    r'\\\\nabla': '∇',\n",
    "    r'\\\\partial': '∂',\n",
    "    # Add more miscellaneous symbols as needed\n",
    "    # Arrows\n",
    "    r'\\\\rightarrow': '→',\n",
    "    r'\\\\leftarrow': '←',\n",
    "    r'\\\\Rightarrow': '⇒',\n",
    "    r'\\\\Leftarrow': '⇐',\n",
    "    r'\\\\uparrow': '↑',\n",
    "    r'\\\\downarrow': '↓',\n",
    "    # Add more arrows as needed\n",
    "    # Brackets, etc.\n",
    "    r'\\\\left\\[': '[',\n",
    "    r'\\\\right\\]': ']',\n",
    "    r'\\\\left\\(': '(',\n",
    "    r'\\\\right\\)': ')',\n",
    "    r'\\\\langle': '⟨',\n",
    "    r'\\\\rangle': '⟩',\n",
    "    # Add more bracket types as needed\n",
    "    # Remove unwanted spaces\n",
    "    r' +': ' ',\n",
    "}\n",
    "\n",
    "def replace_latex(text, replacements):\n",
    "    for latex, replacement in replacements.items():\n",
    "        text = re.sub(latex, replacement, text)\n",
    "    return text\n"
   ]
  },
  {
   "cell_type": "code",
   "execution_count": null,
   "metadata": {},
   "outputs": [],
   "source": [
    "def clean(text):\n",
    "    text = re.split(r'## @{keyword\\.constraints}', text, maxsplit=1)[0]\n",
    "    text = re.sub(r'@{lang\\.ja}.*?@{lang\\.end}', '', text, flags=re.DOTALL)\n",
    "    text = replace_latex(text, latex_replacements)\n",
    "    text = re.sub(r'\\@.+', '', text)\n",
    "    text = re.sub(r'#+', '', text)\n",
    "    text = re.sub(r'\\s+', ' ', text).strip()\n",
    "    return text"
   ]
  },
  {
   "cell_type": "code",
   "execution_count": null,
   "metadata": {},
   "outputs": [],
   "source": [
    "repo_path = 'repos/yosupo06'\n",
    "root = \"https://judge.yosupo.jp/problem/\"\n",
    "\n",
    "for root_dir, dir_name, files in os.walk(repo_path):\n",
    "    for file in files:\n",
    "        if file != \"task.md\":\n",
    "            continue\n",
    "\n",
    "        problem_name = root_dir.split(\"/\")[-1]\n",
    "        problem_link = root + problem_name\n",
    "\n",
    "        file_path = os.path.join(root_dir, file)\n",
    "        problem_statement = open(file_path).read()\n",
    "        problem_statement = clean(problem_statement)\n",
    "\n",
    "        new_row = {\n",
    "            'problem_link': problem_link,\n",
    "            'problem_statement': problem_statement\n",
    "        }\n",
    "\n",
    "        df.loc[len(df)] = new_row"
   ]
  },
  {
   "cell_type": "code",
   "execution_count": null,
   "metadata": {},
   "outputs": [],
   "source": [
    "df.to_csv('../datasets/yosupo_problems.csv')"
   ]
  }
 ],
 "metadata": {
  "kernelspec": {
   "display_name": "Python 3",
   "language": "python",
   "name": "python3"
  },
  "language_info": {
   "name": "python",
   "version": "3.11.6"
  }
 },
 "nbformat": 4,
 "nbformat_minor": 2
}
