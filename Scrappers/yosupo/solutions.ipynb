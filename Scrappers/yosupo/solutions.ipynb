{
 "cells": [
  {
   "cell_type": "code",
   "execution_count": null,
   "metadata": {},
   "outputs": [],
   "source": [
    "import os \n",
    "import pandas as pd "
   ]
  },
  {
   "cell_type": "code",
   "execution_count": null,
   "metadata": {},
   "outputs": [],
   "source": [
    "df = pd.DataFrame(columns=['source', 'problem_link', 'solution'])"
   ]
  },
  {
   "cell_type": "code",
   "execution_count": null,
   "metadata": {},
   "outputs": [],
   "source": [
    "source = \"https://github.com/yosupo06/library-checker-problems\"\n",
    "repo_path = 'repos/yosupo06'\n",
    "root = \"https://judge.yosupo.jp/problem/\"\n",
    "\n",
    "for root_dir, dir_name, files in os.walk(repo_path):\n",
    "    for file in files:\n",
    "        if file != \"correct.cpp\":\n",
    "            continue\n",
    "\n",
    "        file_path = os.path.join(root_dir, file)\n",
    "        solution = open(file_path).read()\n",
    "\n",
    "        problem_name = root_dir.split(\"/\")[-2]\n",
    "        problem_link = root + problem_name\n",
    "\n",
    "        new_row = {\n",
    "            'source': source,\n",
    "            'problem_link': problem_link,\n",
    "            'solution': solution\n",
    "        }\n",
    "\n",
    "        df.loc[len(df)] = new_row"
   ]
  },
  {
   "cell_type": "code",
   "execution_count": null,
   "metadata": {},
   "outputs": [],
   "source": [
    "df.to_csv('../datasets/yosupo_solutions.csv')"
   ]
  }
 ],
 "metadata": {
  "kernelspec": {
   "display_name": "Python 3",
   "language": "python",
   "name": "python3"
  },
  "language_info": {
   "codemirror_mode": {
    "name": "ipython",
    "version": 3
   },
   "file_extension": ".py",
   "mimetype": "text/x-python",
   "name": "python",
   "nbconvert_exporter": "python",
   "pygments_lexer": "ipython3",
   "version": "3.11.6"
  }
 },
 "nbformat": 4,
 "nbformat_minor": 2
}
