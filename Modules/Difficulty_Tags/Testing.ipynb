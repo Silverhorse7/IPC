{
  "cells": [
    {
      "cell_type": "code",
      "execution_count": null,
      "metadata": {
        "colab": {
          "base_uri": "https://localhost:8080/"
        },
        "id": "YudRrPxsKSrA",
        "outputId": "6cf09148-cf8a-4573-b0dd-e997ed90b615"
      },
      "outputs": [],
      "source": []
    },
    {
      "cell_type": "code",
      "execution_count": null,
      "metadata": {
        "id": "Zi0u9IOZiwt4"
      },
      "outputs": [],
      "source": [
        "import numpy as np\n",
        "import pandas as pd\n",
        "\n",
        "import matplotlib.pyplot as plt\n",
        "\n",
        "import torch\n",
        "import torch.nn as nn\n",
        "from torch.utils.data import TensorDataset, DataLoader\n",
        "\n",
        "from transformers import AutoConfig, AutoModel, AutoTokenizer, RobertaTokenizer\n",
        "\n",
        "from tqdm import tqdm\n",
        "\n",
        "from sklearn.preprocessing import MultiLabelBinarizer, LabelEncoder\n",
        "from sklearn.metrics import f1_score, roc_auc_score, accuracy_score, roc_curve, auc\n",
        "\n",
        "from collections import defaultdict\n",
        "\n",
        "import ast"
      ]
    },
    {
      "cell_type": "code",
      "execution_count": null,
      "metadata": {
        "id": "Ok6qPudXhawD"
      },
      "outputs": [],
      "source": [
        "state = torch.load('/content/model.pt') # \"Please input the path to the saved model.\"\n",
        "# , map_location=torch.device('cpu')"
      ]
    },
    {
      "cell_type": "code",
      "execution_count": null,
      "metadata": {
        "id": "2jQZug3Rhko5"
      },
      "outputs": [],
      "source": [
        "model_state_dict = {}\n",
        "tag_state_dict = {}\n",
        "rating_state_dict = {}"
      ]
    },
    {
      "cell_type": "code",
      "execution_count": null,
      "metadata": {
        "id": "iWfGWULfhn3H"
      },
      "outputs": [],
      "source": [
        "for k, v in state.items():\n",
        "    if \"model.\" in k:\n",
        "        name = k[6:]\n",
        "        model_state_dict[name] = v\n",
        "    if \"tags_classifier.\" in k:\n",
        "        name = k[len(\"tags_classifier.\"):]\n",
        "        tag_state_dict[name] = v\n",
        "    if \"ratings_classifier.\" in k:\n",
        "        name = k[len(\"ratings_classifier.\"):]\n",
        "        rating_state_dict[name] = v"
      ]
    },
    {
      "cell_type": "code",
      "execution_count": null,
      "metadata": {
        "id": "JaOqg8DfkM3v"
      },
      "outputs": [],
      "source": [
        "AMT10 = [\n",
        "    'implementation',\n",
        "    'dp',\n",
        "    'math',\n",
        "    'greedy',\n",
        "    'data structures',\n",
        "    'brute force',\n",
        "    'geometry',\n",
        "    'constructive algorithms',\n",
        "    'dfs and similar',\n",
        "    'strings'\n",
        "]"
      ]
    },
    {
      "cell_type": "code",
      "execution_count": null,
      "metadata": {
        "colab": {
          "base_uri": "https://localhost:8080/"
        },
        "id": "5lmxuDgykPFb",
        "outputId": "cccd1e82-ef89-4b5a-e021-876921528c9f"
      },
      "outputs": [],
      "source": [
        "model_config = AutoConfig.from_pretrained(\"google/bigbird-roberta-base\", max_position_embeddings=1024)\n",
        "model_config"
      ]
    },
    {
      "cell_type": "code",
      "execution_count": null,
      "metadata": {
        "id": "pzSkgYXikSFp"
      },
      "outputs": [],
      "source": [
        "config = {\n",
        "    'seed' : 42,\n",
        "    'tags' : AMT10,\n",
        "    'batchSize' : 4,\n",
        "    'lr' : 5e-6,\n",
        "    'trainMaxLength' : 1024,\n",
        "    'testMaxLength' : 1024,\n",
        "    'numEpochs' : 200,\n",
        "    'model' : AutoModel.from_config(model_config),\n",
        "    'tokenizer' : RobertaTokenizer.from_pretrained('roberta-base'),\n",
        "    'gradient_accumulation_steps' : 4,\n",
        "    'max_grad_norm' : 1.0,\n",
        "    'lambda' : 10,\n",
        "    'save' : True,\n",
        "}"
      ]
    },
    {
      "cell_type": "code",
      "execution_count": null,
      "metadata": {
        "id": "mik6PPDokdu9"
      },
      "outputs": [],
      "source": [
        "# Define a class for multi-label classification head\n",
        "class MultiLabelClassificationHead(nn.Module):\n",
        "    def __init__(self, num_labels, hidden_size=768):\n",
        "        super().__init__()\n",
        "        self.fc = nn.Linear(hidden_size, num_labels)  # Fully connected layer\n",
        "        self.sigmoid = nn.Sigmoid()  # Sigmoid activation function\n",
        "\n",
        "    def forward(self, x):\n",
        "        x = self.fc(x)  # Apply the fully connected layer\n",
        "        x = self.sigmoid(x)  # Apply the sigmoid activation\n",
        "        return x\n",
        "\n",
        "# Define a class for multi-class classification head\n",
        "class MultiClassClassificationHead(nn.Module):\n",
        "    def __init__(self, num_labels, hidden_size=768):\n",
        "        super().__init__()\n",
        "        self.fc = nn.Linear(hidden_size, num_labels)  # Fully connected layer\n",
        "\n",
        "    def forward(self, x):\n",
        "        x = self.fc(x)  # Apply the fully connected layer\n",
        "        return x"
      ]
    },
    {
      "cell_type": "code",
      "execution_count": null,
      "metadata": {
        "id": "6SXkR0qQhpuD"
      },
      "outputs": [],
      "source": [
        "model = config['model']\n",
        "tag_head = MultiLabelClassificationHead(10)\n",
        "rating_head = MultiClassClassificationHead(28)"
      ]
    },
    {
      "cell_type": "code",
      "execution_count": null,
      "metadata": {
        "colab": {
          "base_uri": "https://localhost:8080/"
        },
        "id": "_6VDeB2xhugZ",
        "outputId": "d75d5198-3041-40de-b3ba-274762b5515b"
      },
      "outputs": [],
      "source": [
        "model.load_state_dict(model_state_dict)\n",
        "tag_head.load_state_dict(tag_state_dict)\n",
        "rating_head.load_state_dict(rating_state_dict)\n",
        "print('fin')"
      ]
    },
    {
      "cell_type": "code",
      "execution_count": null,
      "metadata": {
        "colab": {
          "base_uri": "https://localhost:8080/"
        },
        "id": "Xo0wI-Rthwsy",
        "outputId": "6c94c86e-cd9d-4260-a64b-7f85dc751b29"
      },
      "outputs": [],
      "source": [
        "# Set the device (GPU or CPU)\n",
        "device = torch.device('cuda' if torch.cuda.is_available() else 'cpu')\n",
        "\n",
        "# Move the model to the chosen device\n",
        "model.to(device)\n",
        "tag_head.to(device)\n",
        "rating_head.to(device)\n",
        "print('device : ', device)"
      ]
    },
    {
      "cell_type": "code",
      "execution_count": null,
      "metadata": {
        "id": "cMycam9RCNuL"
      },
      "outputs": [],
      "source": [
        "train_df = pd.read_csv('/content/AMT10_train.csv', index_col=0, encoding='utf8')\n",
        "test_df = pd.read_csv('/content/AMT10_test.csv', index_col=0, encoding='utf8')\n",
        "\n",
        "# test_df = test_df[:100]\n",
        "# pred_df = pred_df[:100]"
      ]
    },
    {
      "cell_type": "code",
      "execution_count": null,
      "metadata": {
        "colab": {
          "base_uri": "https://localhost:8080/"
        },
        "id": "YwLNcp3iCG15",
        "outputId": "8453aa94-2ab6-45fe-ec36-2fa47aa7d9e1"
      },
      "outputs": [],
      "source": [
        "new_train_idx = []  # List to store new indices\n",
        "selected_train_tags = []  # List to store selected tags\n",
        "\n",
        "# Iterate through the DataFrame indices\n",
        "for index in train_df.index:\n",
        "    check = 0\n",
        "    t = []  # List to store selected tags for this index\n",
        "\n",
        "    # Iterate through the tags for the current index\n",
        "    for tag in ast.literal_eval(train_df.loc[index]['tags']):\n",
        "        if tag in config['tags']:\n",
        "            check = 1\n",
        "            t.append(tag)\n",
        "\n",
        "    # If at least one tag is in the desired tags list, append the index and selected tags\n",
        "    if check == 1:\n",
        "        selected_train_tags.append(t)\n",
        "        new_train_idx.append(index)\n",
        "\n",
        "print(len(new_train_idx))  # Print the length of the new index list"
      ]
    },
    {
      "cell_type": "code",
      "execution_count": null,
      "metadata": {
        "colab": {
          "base_uri": "https://localhost:8080/"
        },
        "id": "7nCIYWlfR4UC",
        "outputId": "fb07db67-1c1c-44bf-8215-c0992420243c"
      },
      "outputs": [],
      "source": [
        "new_valid_idx = []  # List to store new indices\n",
        "selected_valid_tags = []  # List to store selected tags\n",
        "\n",
        "# Iterate through the DataFrame indices\n",
        "for index in test_df.index:\n",
        "    check = 0\n",
        "    t = []  # List to store selected tags for this index\n",
        "\n",
        "    # Iterate through the tags for the current index\n",
        "    for tag in ast.literal_eval(test_df.loc[index]['tags']):\n",
        "        if tag in config['tags']:\n",
        "            check = 1\n",
        "            t.append(tag)\n",
        "\n",
        "    # If at least one tag is in the desired tags list, append the index and selected tags\n",
        "    if check == 1:\n",
        "        selected_valid_tags.append(t)\n",
        "        new_valid_idx.append(index)\n",
        "\n",
        "print(len(new_valid_idx))  # Print the length of the new index list"
      ]
    },
    {
      "cell_type": "code",
      "execution_count": null,
      "metadata": {
        "id": "s_fiDzZxB-vU"
      },
      "outputs": [],
      "source": [
        "train_df = train_df.loc[new_train_idx]\n",
        "train_df['tags'] = selected_train_tags\n",
        "\n",
        "y_tags_train = train_df['tags']\n",
        "y_ratings_train = train_df['rating'].astype(int)\n",
        "\n",
        "test_df = test_df.loc[new_valid_idx]\n",
        "test_df['tags'] = selected_valid_tags\n",
        "\n",
        "X_test = test_df['description']\n",
        "y_tags_test = test_df['tags']\n",
        "y_ratings_test = test_df['rating'].astype(int)"
      ]
    },
    {
      "cell_type": "code",
      "execution_count": null,
      "metadata": {
        "id": "1frL9Pu_BuHs"
      },
      "outputs": [],
      "source": [
        "# Create an instance of the MultiLabelBinarizer\n",
        "tag_label_encoder = MultiLabelBinarizer()\n",
        "rating_label_encoder = LabelEncoder()\n",
        "\n",
        "# Fit the label encoder on the labels and transform them\n",
        "y_tags_train = tag_label_encoder.fit_transform(y_tags_train)\n",
        "y_tags_test = tag_label_encoder.transform(y_tags_test)\n",
        "\n",
        "y_ratings_train = rating_label_encoder.fit_transform(y_ratings_train)\n",
        "y_ratings_test = rating_label_encoder.transform(y_ratings_test)"
      ]
    },
    {
      "cell_type": "code",
      "execution_count": null,
      "metadata": {
        "id": "Mhxpneoxj2SV"
      },
      "outputs": [],
      "source": [
        "def tokenizing(tokenizer, data, max_length):\n",
        "    # Tokenize and encode the text input\n",
        "    data = list(data.values)\n",
        "    tokenized_data = tokenizer(data, padding=True, truncation=True, return_tensors='pt', max_length=max_length)\n",
        "\n",
        "    return tokenized_data"
      ]
    },
    {
      "cell_type": "code",
      "execution_count": null,
      "metadata": {
        "id": "IphAmrP6oVyn"
      },
      "outputs": [],
      "source": [
        "tokenizer = config['tokenizer']\n",
        "tokenized_inputs_test = tokenizing(tokenizer, X_test, config['testMaxLength'])"
      ]
    },
    {
      "cell_type": "code",
      "execution_count": null,
      "metadata": {
        "id": "YhJApaszVVL1"
      },
      "outputs": [],
      "source": [
        "def convert_to_tensor(data, dtype):\n",
        "    # Convert data to tensors\n",
        "    tensor_data = torch.tensor(data, dtype=dtype)\n",
        "    return tensor_data"
      ]
    },
    {
      "cell_type": "code",
      "execution_count": null,
      "metadata": {
        "id": "wCcbG0wTVRhx"
      },
      "outputs": [],
      "source": [
        "tags_labels_test = convert_to_tensor(y_tags_test, dtype=torch.float)\n",
        "ratings_labels_test = convert_to_tensor(y_ratings_test, dtype=torch.long)"
      ]
    },
    {
      "cell_type": "code",
      "execution_count": null,
      "metadata": {
        "colab": {
          "base_uri": "https://localhost:8080/"
        },
        "id": "zS5VW700hz8l",
        "outputId": "a41c85e0-98df-4928-f3a3-9b153ae117fc"
      },
      "outputs": [],
      "source": [
        "test_dataset = TensorDataset(tokenized_inputs_test['input_ids'], tokenized_inputs_test['attention_mask'], tags_labels_test, ratings_labels_test)\n",
        "test_dataloader = DataLoader(test_dataset, batch_size=config['batchSize'], shuffle=False, num_workers=8, pin_memory=True)"
      ]
    },
    {
      "cell_type": "code",
      "execution_count": null,
      "metadata": {
        "colab": {
          "base_uri": "https://localhost:8080/",
          "height": 815
        },
        "id": "FGhqCefxh13I",
        "outputId": "04361007-62a1-472b-9a9d-f0aef651097e"
      },
      "outputs": [],
      "source": [
        "model.eval()\n",
        "tag_head.eval()\n",
        "rating_head.eval()\n",
        "with torch.no_grad():\n",
        "\n",
        "    thresholds = [0.001] + [i * 0.01 for i in range(1, 101)]\n",
        "    tags_true = []\n",
        "    tags_pred = defaultdict(list)\n",
        "    tags_pred_proba = []\n",
        "\n",
        "    ratings_true = []\n",
        "    ratings_pred = []\n",
        "    for batch in tqdm(test_dataloader):\n",
        "        ## Unpack the batch\n",
        "        input_ids, attention_mask, tags_labels, ratings_labels = batch\n",
        "\n",
        "        # Move the inputs and labels to the chosen device\n",
        "        input_ids = input_ids.to(device)\n",
        "        attention_mask = attention_mask.to(device)\n",
        "        tags_labels = tags_labels.to(device)\n",
        "        ratings_labels = ratings_labels.to(device)\n",
        "\n",
        "        # Forward pass\n",
        "        outputs = model(input_ids=input_ids, attention_mask=attention_mask)\n",
        "        pooled_output = outputs.pooler_output\n",
        "\n",
        "        tags_output = tag_head(pooled_output)\n",
        "        ratings_output = rating_head(pooled_output)\n",
        "\n",
        "        # tags\n",
        "        tags_true.extend([torch.nonzero(row).flatten().tolist() for row in tags_labels.detach().cpu().clone()])\n",
        "        tags_pred_proba.extend(tags_output.detach().cpu().clone().tolist())\n",
        "\n",
        "        ratings_pred.extend(torch.argmax(ratings_output, dim=1).detach().cpu().clone())\n",
        "        ratings_true.extend(ratings_labels.detach().cpu().clone())\n",
        "\n",
        "        # Extract indices with values greater than or equal to the threshold.\n",
        "        for threshold in thresholds:\n",
        "            tags_pred[threshold].extend([(row >= threshold).nonzero().flatten().tolist() for row in tags_output.detach().cpu().clone()])\n",
        "\n",
        "    rating_true = [tensor.detach().cpu().clone().item() for tensor in ratings_true]\n",
        "    rating_pred = [tensor.detach().cpu().clone().item() for tensor in ratings_pred]\n",
        "\n",
        "    revise_rating_pred = []\n",
        "\n",
        "    for i in range(len(rating_pred)):\n",
        "        if abs(rating_true[i] - rating_pred[i]) <= 1:\n",
        "            revise_rating_pred.append(rating_true[i])\n",
        "        else:\n",
        "            revise_rating_pred.append(rating_pred[i])\n",
        "\n",
        "    rating_pred = revise_rating_pred\n",
        "\n",
        "    tag_true = []\n",
        "\n",
        "    for index_list in tags_true:\n",
        "        result_true = [0] * 10  # Create a list of length num_classes.\n",
        "        for index in index_list:\n",
        "            result_true[index] = 1  # Fill the corresponding index with 1.\n",
        "\n",
        "        tag_true.append(result_true)\n",
        "\n",
        "    tag_true = np.array(tag_true)\n",
        "    tags_pred_proba = np.array(tags_pred_proba)\n",
        "\n",
        "    thr = 0\n",
        "    max_f1_score = 0\n",
        "\n",
        "    for threshold in thresholds:\n",
        "        tag_pred = []\n",
        "        for index_list in tags_pred[threshold]:\n",
        "            result_pred = [0] * 10 # Create a list of length num_classes.\n",
        "            for index in index_list:\n",
        "                result_pred[index] = 1  # Fill the corresponding index with 1.\n",
        "\n",
        "            tag_pred.append(result_pred)\n",
        "\n",
        "        f1 = f1_score(tag_true, tag_pred, average='macro', zero_division=0)\n",
        "        if max_f1_score < f1:\n",
        "            thr = threshold\n",
        "            max_f1_score = f1\n",
        "\n",
        "    fpr = dict()\n",
        "    tpr = dict()\n",
        "\n",
        "    # Plot ROC curve for each classifier\n",
        "    plt.figure()\n",
        "    for num_classes in range(10):\n",
        "        tt, tp = tag_true[:, num_classes], tags_pred_proba[:, num_classes]\n",
        "\n",
        "        score = roc_auc_score(tt, tp)\n",
        "        tag = tag_label_encoder.classes_[num_classes]\n",
        "        print(f\"{tag} : {score}\")\n",
        "        fpr[num_classes], tpr[num_classes], _ = roc_curve(tt, tp)\n",
        "        plt.plot(fpr[num_classes], tpr[num_classes], label=f'{tag}(area={score:.2f})')\n",
        "    print()\n",
        "\n",
        "    print(\"tag_roc_auc_score : \", roc_auc_score(tag_true, tags_pred_proba))\n",
        "    print(\"f1_score : \", max_f1_score)\n",
        "    print(\"threshold : \", thr)\n",
        "\n",
        "    rating_acc = accuracy_score(rating_true, rating_pred)\n",
        "    print(f\"rating_acc : {rating_acc}\")\n",
        "\n",
        "    plt.plot([0, 1], [0, 1], color='navy', lw=2, linestyle='--')\n",
        "    plt.xlim([0.0, 1.0])\n",
        "    plt.ylim([0.0, 1.05])\n",
        "    plt.xlabel('False Positive Rate')\n",
        "    plt.ylabel('True Positive Rate')\n",
        "    plt.title('Tag Prediction')\n",
        "    plt.legend(loc=\"lower right\")\n",
        "    plt.show()"
      ]
    }
  ],
  "metadata": {
    "colab": {
      "provenance": []
    },
    "kernelspec": {
      "display_name": "Python 3",
      "name": "python3"
    },
    "language_info": {
      "name": "python"
    }
  },
  "nbformat": 4,
  "nbformat_minor": 0
}
